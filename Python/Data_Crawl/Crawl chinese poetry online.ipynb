{
 "cells": [
  {
   "cell_type": "markdown",
   "metadata": {},
   "source": [
    "# Crawl chinese poetry online"
   ]
  },
  {
   "cell_type": "markdown",
   "metadata": {},
   "source": [
    "## Method 1: Beautiful soup"
   ]
  },
  {
   "cell_type": "code",
   "execution_count": 3,
   "metadata": {},
   "outputs": [
    {
     "name": "stdout",
     "output_type": "stream",
     "text": [
      "[{'title': '江有汜', 'dynasty': '先秦', 'name': '佚名', 'content': '江有汜，之子归，不我以。不我以，其后也悔。江有渚，之子归，不我与。不我与，其后也处。江有沱，之子归，不我过。不我过，其啸也歌。'}, {'title': '普天乐·浙江秋', 'dynasty': '元代', 'name': '姚燧', 'content': '浙江秋，吴山夜。愁随潮去，恨与山叠。寒雁来，芙蓉谢。冷雨青灯读书舍，怕离别又早离别。今宵醉也，明朝去也，宁奈些些。'}, {'title': '同李十一醉忆元九', 'dynasty': '唐代', 'name': '白居易', 'content': '花时同醉破春愁，醉折花枝作酒筹。忽忆故人天际去，计程今日到梁州。'}, {'title': '梅花引·荆溪阻雪', 'dynasty': '宋代', 'name': '蒋捷', 'content': '白鸥问我泊孤舟，是身留，是心留？心若留时，何事锁眉头？风拍小帘灯晕舞，对闲影，冷清清，忆旧游。旧游旧游今在否？花外楼，柳下舟。梦也梦也，梦不到，寒水空流。漠漠黄云，湿透木棉裘。都道无人愁似我，今夜雪，有梅花，似我愁。'}, {'title': '渔父词二首·其一', 'dynasty': '元代', 'name': '赵孟頫', 'content': '渺渺烟波一叶舟，西风落木五湖秋。盟鸥鹭，傲王侯，管甚鲈鱼不上钩。'}, {'title': '周颂·有瞽', 'dynasty': '先秦', 'name': '佚名', 'content': '有瞽有瞽，在周之庭。设业设虡，崇牙树羽。应田县鼓，鞉磬柷圉。既备乃奏，箫管备举。喤喤厥声，肃雍和鸣，先祖是听。我客戾止，永观厥成。'}, {'title': '候人', 'dynasty': '先秦', 'name': '佚名', 'content': '彼候人兮，何戈与祋。彼其之子，三百赤芾。\\n维鹈在梁，不濡其翼。彼其之子，不称其服。\\n维鹈在梁，不濡其咮。彼其之子，不遂其媾。\\n荟兮蔚兮，南山朝隮。婉兮娈兮，季女斯饥。'}, {'title': '甲辰八月辞故里 \\\\ 将入武林', 'dynasty': '明代', 'name': '张煌言', 'content': '国亡家破欲何之？西子湖头有我师。日月双悬于氏墓，乾坤半壁岳家祠。惭将赤手分三席，敢为丹心借一枝。他日素车东浙路，怒涛岂必属鸱夷！'}, {'title': '寄赞上人', 'dynasty': '唐代', 'name': '杜甫', 'content': '一昨陪锡杖，卜邻南山幽。年侵腰脚衰，未便阴崖秋。重冈北面起，竟日阳光留。茅屋买兼土，斯焉心所求。近闻西枝西，有谷杉黍稠。亭午颇和暖，石田又足收。当期塞雨干，宿昔齿疾瘳。裴回虎穴上，面势龙泓头。柴荆具茶茗，径路通林丘。与子成二老，来往亦风流。'}, {'title': '咏芭蕉', 'dynasty': '清代', 'name': '郑燮', 'content': '芭蕉叶叶为多情，一叶才舒一叶生。自是相思抽不尽，却教风雨怨秋声。'}, {'title': '竹马子·登孤垒荒凉', 'dynasty': '宋代', 'name': '柳永', 'content': '登孤垒荒凉，危亭旷望，静临烟渚。对雌霓挂雨，雄风拂槛，微收烦暑。渐觉一叶惊秋，残蝉噪晚，素商时序。览景想前欢，指神京，非雾非烟深处。向此成追感，新愁易积，故人难聚。凭高尽日凝伫。赢得消魂无语。极目霁霭霏微，瞑鸦零乱，萧索江城暮。南楼画角，又送残阳去。'}, {'title': '采桑子·谢家庭院残更立', 'dynasty': '清代', 'name': '纳兰性德', 'content': '谢家庭院残更立，燕宿雕梁。月度银墙，不辨花丛那辨香。此情已自成追忆，零落鸳鸯。雨歇微凉，十一年前梦一场。'}, {'title': '田翁', 'dynasty': '唐代', 'name': '杜荀鹤', 'content': '白发星星筋力衰，种田犹自伴孙儿。官苗若不平平纳，任是丰年也受饥。'}, {'title': '送别', 'dynasty': '唐代', 'name': '王维', 'content': '下马饮君酒，问君何所之？君言不得意，归卧南山陲。但去莫复问，白云无尽时。'}, {'title': '狱中赠邹容', 'dynasty': '近现代', 'name': '章炳麟', 'content': '邹容吾小弟，被发下瀛州。快剪刀除辫，干牛肉作餱。英雄一入狱，天地亦悲秋。临命须掺手，乾坤只两头！'}, {'title': '清明', 'dynasty': '宋代', 'name': '黄庭坚', 'content': '佳节清明桃李笑，野田荒冢只生愁。雷惊天地龙蛇蛰，雨足郊原草木柔。人乞祭余骄妾妇，士甘焚死不公侯。贤愚千载知谁是，满眼蓬蒿共一丘。'}, {'title': '晓行巴峡', 'dynasty': '唐代', 'name': '王维', 'content': '际晓投巴峡，馀春忆帝京。晴江一女浣，朝日众鸡鸣。水国舟中市，山桥树杪行。登高万井出，眺迥二流明。人作殊方语，莺为故国声。赖多山水趣，稍解别离情。'}, {'title': '送友人归', 'dynasty': '宋代', 'name': '郑思肖', 'content': '年高雪满簪，唤渡浙江浔。花落一杯酒，月明千里心。凤凰身宇宙，麋鹿性山林。别后空回首，冥冥烟树深。'}, {'title': '贞元十四年旱甚见权门移芍药花', 'dynasty': '唐代', 'name': '吕温', 'content': '绿原青垄渐成尘，汲井开园日日新。四月带花移芍药，不知忧国是何人。'}, {'title': '国风·王风·中谷有蓷', 'dynasty': '先秦', 'name': '佚名', 'content': '中谷有蓷，暵其乾矣。有女仳离，嘅其叹矣。嘅其叹矣，遇人之艰难矣！中谷有蓷，暵其修矣。有女仳离，条其啸矣。条其啸矣，遇人之不淑矣！中谷有蓷，暵其湿矣。有女仳离，啜其泣矣。啜其泣矣，何嗟及矣！'}]\n"
     ]
    }
   ],
   "source": [
    "from bs4 import BeautifulSoup\n",
    "import  requests\n",
    "\n",
    "POETRY_LIST = []\n",
    "titlelist = []\n",
    "dynastylist = []\n",
    "namelist = []\n",
    "contentlist = []\n",
    "\n",
    "headers = {\n",
    "    'user-agent':\"Mozilla/5.0 (Windows NT 10.0; Win64; x64) AppleWebKit/537.36 (KHTML, like Gecko) Chrome/69.0.3497.92 Safari/537.36\"\n",
    "}\n",
    "\n",
    "# set how many pages you want to crawl\n",
    "for page in range(1,3):\n",
    "    urls = \"https://www.gushiwen.org/default_%d.aspx\" % page\n",
    "    response = requests.get(urls, headers = headers)\n",
    "    html = response.text\n",
    "    soup = BeautifulSoup(html, 'lxml')\n",
    "    # get title\n",
    "    raw_title = soup.select(\"b\")\n",
    "    for title in raw_title:\n",
    "        title = title.get_text()\n",
    "        titlelist.append(title)\n",
    "        \n",
    "    # get the dynasty of the poem\n",
    "    # raw_dynasty = soup.select(\"p[class = 'source']//a[target = '_blank'][1]\")\n",
    "    p_tag = soup.find_all('p',class_ = 'source')\n",
    "    for p in p_tag:\n",
    "        a_tag = p.find('a', target= '_blank')\n",
    "        dynastylist.append(a_tag.string)\n",
    "\n",
    "    # get the name of author\n",
    "\n",
    "    for p in p_tag:\n",
    "        a_tag = p.find_all('a', target= '_blank')\n",
    "        namelist.append(a_tag[1].string)\n",
    "\n",
    "    # get the content of a poetry\n",
    "\n",
    "    raw_content = soup.find_all('div',class_ = 'contson')\n",
    "    for content in raw_content:\n",
    "        content = content.get_text()\n",
    "        content = content.strip('\\n')\n",
    "        contentlist.append(content)\n",
    "\n",
    "\n",
    "\n",
    "\n",
    "for i in range(len(contentlist)):\n",
    "    title = titlelist[i]\n",
    "    dynasty = dynastylist[i]\n",
    "    name = namelist[i]\n",
    "    content = contentlist[i]\n",
    "    POETRY_LIST.append({'title':title, 'dynasty':dynasty, 'name': name, 'content':content})\n",
    "\n",
    "print(POETRY_LIST)"
   ]
  },
  {
   "cell_type": "markdown",
   "metadata": {},
   "source": [
    "## Method 2: Regular Expression"
   ]
  },
  {
   "cell_type": "code",
   "execution_count": 5,
   "metadata": {},
   "outputs": [
    {
     "name": "stdout",
     "output_type": "stream",
     "text": [
      "[{'title': '江有汜', 'dynasty': '先秦', 'author': '佚名', 'content': '江有汜，之子归，不我以。不我以，其后也悔。江有渚，之子归，不我与。不我与，其后也处。江有沱，之子归，不我过。不我过，其啸也歌。'}, {'title': '普天乐·浙江秋', 'dynasty': '元代', 'author': '姚燧', 'content': '浙江秋，吴山夜。愁随潮去，恨与山叠。寒雁来，芙蓉谢。冷雨青灯读书舍，怕离别又早离别。今宵醉也，明朝去也，宁奈些些。'}, {'title': '同李十一醉忆元九', 'dynasty': '唐代', 'author': '白居易', 'content': '花时同醉破春愁，醉折花枝作酒筹。忽忆故人天际去，计程今日到梁州。'}, {'title': '梅花引·荆溪阻雪', 'dynasty': '宋代', 'author': '蒋捷', 'content': '白鸥问我泊孤舟，是身留，是心留？心若留时，何事锁眉头？风拍小帘灯晕舞，对闲影，冷清清，忆旧游。旧游旧游今在否？花外楼，柳下舟。梦也梦也，梦不到，寒水空流。漠漠黄云，湿透木棉裘。都道无人愁似我，今夜雪，有梅花，似我愁。'}, {'title': '渔父词二首·其一', 'dynasty': '元代', 'author': '赵孟頫', 'content': '渺渺烟波一叶舟，西风落木五湖秋。盟鸥鹭，傲王侯，管甚鲈鱼不上钩。'}, {'title': '周颂·有瞽', 'dynasty': '先秦', 'author': '佚名', 'content': '有瞽有瞽，在周之庭。设业设虡，崇牙树羽。应田县鼓，鞉磬柷圉。既备乃奏，箫管备举。喤喤厥声，肃雍和鸣，先祖是听。我客戾止，永观厥成。'}, {'title': '候人', 'dynasty': '先秦', 'author': '佚名', 'content': '彼候人兮，何戈与祋。彼其之子，三百赤芾。\\n维鹈在梁，不濡其翼。彼其之子，不称其服。\\n维鹈在梁，不濡其咮。彼其之子，不遂其媾。\\n荟兮蔚兮，南山朝隮。婉兮娈兮，季女斯饥。'}, {'title': '甲辰八月辞故里 \\\\ 将入武林', 'dynasty': '明代', 'author': '张煌言', 'content': '国亡家破欲何之？西子湖头有我师。日月双悬于氏墓，乾坤半壁岳家祠。惭将赤手分三席，敢为丹心借一枝。他日素车东浙路，怒涛岂必属鸱夷！'}, {'title': '寄赞上人', 'dynasty': '唐代', 'author': '杜甫', 'content': '一昨陪锡杖，卜邻南山幽。年侵腰脚衰，未便阴崖秋。重冈北面起，竟日阳光留。茅屋买兼土，斯焉心所求。近闻西枝西，有谷杉黍稠。亭午颇和暖，石田又足收。当期塞雨干，宿昔齿疾瘳。裴回虎穴上，面势龙泓头。柴荆具茶茗，径路通林丘。与子成二老，来往亦风流。'}, {'title': '咏芭蕉', 'dynasty': '清代', 'author': '郑燮', 'content': '芭蕉叶叶为多情，一叶才舒一叶生。自是相思抽不尽，却教风雨怨秋声。'}]\n"
     ]
    }
   ],
   "source": [
    "import  requests\n",
    "import re\n",
    "\n",
    "\n",
    "\n",
    "contentlist = []\n",
    "POEMS = []\n",
    "headers = {\n",
    "    'user-agent':\"Mozilla/5.0 (Windows NT 10.0; Win64; x64) AppleWebKit/537.36 (KHTML, like Gecko) Chrome/69.0.3497.92 Safari/537.36\"\n",
    "}\n",
    "\n",
    "for page in range(1,2):\n",
    "#     print(page)\n",
    "    urls = \"https://www.gushiwen.org/default_%d.aspx\" % page\n",
    "    response = requests.get(urls, headers = headers)\n",
    "    html = response.text\n",
    "    title = re.findall(r'<b>(.*?)</b>',html,re.DOTALL)\n",
    "    dynasty = re.findall(r'<p class=\"source\">.*?<a.*?>(.*?)</a>',html,re.DOTALL)\n",
    "    # print(dynasty)\n",
    "    author = re.findall(r'<p class=\"source\">.*?<a.*?>.*?<a.*?>(.*?)</a>',html,re.DOTALL)\n",
    "#     print(author)\n",
    "    contents = re.findall(r'<div class=\"contson\".*?>(.*?)</div>', html, re.DOTALL)\n",
    "    for content in contents:\n",
    "        content = re.sub('<.*?>',\"\",content)\n",
    "        content = content.strip('\\n')\n",
    "        contentlist.append(content)\n",
    "\n",
    "    for value in zip(title,dynasty,author,contentlist):\n",
    "        title1, dynasty1, author1, content1 = value\n",
    "        poem = {\n",
    "            'title':title1,\n",
    "            'dynasty':dynasty1,\n",
    "            'author':author1,\n",
    "            'content' :content1\n",
    "        }\n",
    "        POEMS.append(poem)\n",
    "\n",
    "print(POEMS)"
   ]
  },
  {
   "cell_type": "code",
   "execution_count": null,
   "metadata": {},
   "outputs": [],
   "source": []
  }
 ],
 "metadata": {
  "kernelspec": {
   "display_name": "Python 3",
   "language": "python",
   "name": "python3"
  },
  "language_info": {
   "codemirror_mode": {
    "name": "ipython",
    "version": 3
   },
   "file_extension": ".py",
   "mimetype": "text/x-python",
   "name": "python",
   "nbconvert_exporter": "python",
   "pygments_lexer": "ipython3",
   "version": "3.6.5"
  }
 },
 "nbformat": 4,
 "nbformat_minor": 2
}
