{
 "cells": [
  {
   "cell_type": "markdown",
   "metadata": {},
   "source": [
    "# Crawl weather on China meteorological administration Website"
   ]
  },
  {
   "cell_type": "markdown",
   "metadata": {},
   "source": [
    "### data source: http://www.weather.com.cn/textFC/hb.shtml\n",
    "### Goal: crawl temperature information of every area,including hb,db,hd, in china and develop a website with a bar chart of top 10 lowest tempereature cities"
   ]
  },
  {
   "cell_type": "code",
   "execution_count": 7,
   "metadata": {},
   "outputs": [],
   "source": [
    "from bs4 import BeautifulSoup\n",
    "import requests\n",
    "from pyecharts import Bar\n",
    "\n",
    "ALL_DATA = []\n",
    "\n",
    "HEADER = {\n",
    "    'User-Agent':\"Mozilla/5.0 (Windows NT 10.0; Win64; x64) AppleWebKit/537.36 (KHTML, like Gecko) Chrome/69.0.3497.92 Safari/537.36\"\n",
    "}\n",
    "\n",
    "def main():\n",
    "\n",
    "    urls = [\n",
    "    'http://www.weather.com.cn/textFC/hb.shtml',\n",
    "    'http://www.weather.com.cn/textFC/db.shtml',\n",
    "    'http://www.weather.com.cn/textFC/hd.shtml',\n",
    "    'http://www.weather.com.cn/textFC/hz.shtml',\n",
    "    'http://www.weather.com.cn/textFC/hn.shtml',\n",
    "    'http://www.weather.com.cn/textFC/xb.shtml',\n",
    "    'http://www.weather.com.cn/textFC/xn.shtml',\n",
    "    'http://www.weather.com.cn/textFC/gat.shtml'\n",
    "\n",
    "    ]\n",
    "    for url in urls:\n",
    "        parse_page(url)\n",
    "\n",
    "    ALL_DATA.sort(key=lambda x:x['min_temp'] )\n",
    "    #print(ALL_DATA)\n",
    "\n",
    "    data = ALL_DATA[0:10]\n",
    "\n",
    "    cities = list( map(lambda x:x['city'],data))\n",
    "    temps = list(map(lambda x:x['min_temp'],data))\n",
    "\n",
    "    chart = Bar('Chinese lowest temperature ranking')\n",
    "    chart.use_theme('dark')\n",
    "    chart.add('',cities,temps)\n",
    "    chart.render('temperature.html')\n",
    "\n",
    "def parse_page(url):\n",
    "    response = requests.get(url,headers = HEADER)\n",
    "    html = response.content.decode('utf-8')\n",
    "    soup = BeautifulSoup(html,'html5lib')\n",
    "    conMidtab = soup.find('div',class_ = 'conMidtab')\n",
    "    tables = conMidtab.find_all('table')\n",
    "    for table in tables:\n",
    "        trs = table.find_all('tr')[2:]\n",
    "        for index,tr in enumerate(trs):\n",
    "            tds = tr.find_all('td')\n",
    "            city_td = tds[0]\n",
    "            if index == 0:\n",
    "                city_td = tds[1]\n",
    "            city = list(city_td.stripped_strings)[0]\n",
    "            temp_td = tds[-2]\n",
    "            min_temp = list(temp_td.stripped_strings)[0]\n",
    "            ALL_DATA.append({'city': city, 'min_temp': int(min_temp)})\n",
    "           # print({'city': city, 'min_temp': int(min_temp)})\n",
    "            #print(\"=\"*30)\n",
    "    \n",
    "\n",
    "\n",
    "\n",
    "if __name__ == '__main__':\n",
    "    # sorted by temperature descendingly\n",
    "    main()\n"
   ]
  },
  {
   "cell_type": "code",
   "execution_count": null,
   "metadata": {},
   "outputs": [],
   "source": []
  }
 ],
 "metadata": {
  "kernelspec": {
   "display_name": "Python 3",
   "language": "python",
   "name": "python3"
  },
  "language_info": {
   "codemirror_mode": {
    "name": "ipython",
    "version": 3
   },
   "file_extension": ".py",
   "mimetype": "text/x-python",
   "name": "python",
   "nbconvert_exporter": "python",
   "pygments_lexer": "ipython3",
   "version": "3.6.5"
  }
 },
 "nbformat": 4,
 "nbformat_minor": 2
}
